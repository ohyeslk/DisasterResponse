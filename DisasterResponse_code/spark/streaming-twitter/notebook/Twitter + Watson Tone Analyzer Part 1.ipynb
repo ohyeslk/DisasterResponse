{
 "cells": [
  {
   "cell_type": "markdown",
   "metadata": {},
   "source": [
    "#Twitter + Watson Tone Analyzer sample Notebook Part 1: Loading the data\n",
    "In this Notebook, we show how to load the custom library generate as part of the Twitter + Watson Tone Analyzer streaming application. Code can be found here: https://github.com/ibm-cds-labs/spark.samples/tree/master/streaming-twitter.\n",
    "The following code is using a pre-built jar has been posted on the Github project, but you can replace with your own url if needed."
   ]
  },
  {
   "cell_type": "code",
   "execution_count": 1,
   "metadata": {
    "collapsed": false
   },
   "outputs": [
    {
     "name": "stdout",
     "output_type": "stream",
     "text": [
      "Starting download from https://github.com/ibm-cds-labs/spark.samples/raw/master/dist/streaming-twitter-assembly-1.2.jar\n",
      "Finished download of streaming-twitter-assembly-1.2.jar\n"
     ]
    }
   ],
   "source": [
    "%AddJar https://github.com/ibm-cds-labs/spark.samples/raw/master/dist/streaming-twitter-assembly-1.2.jar -f"
   ]
  },
  {
   "cell_type": "markdown",
   "metadata": {},
   "source": [
    "##Set up the Twitter and Watson credentials\n",
    "Please refer to the tutorial for details on how to find the Twitter and Watson credentials, then add the value in the placeholders specified in the code below"
   ]
  },
  {
   "cell_type": "code",
   "execution_count": 2,
   "metadata": {
    "collapsed": false
   },
   "outputs": [],
   "source": [
    "val demo = com.ibm.cds.spark.samples.StreamingTwitter\n",
    "demo.setConfig(\"twitter4j.oauth.consumerKey\",\"XXXXX\")\n",
    "demo.setConfig(\"twitter4j.oauth.consumerSecret\",\"XXXXX\")\n",
    "demo.setConfig(\"twitter4j.oauth.accessToken\",\"XXXXX\")\n",
    "demo.setConfig(\"twitter4j.oauth.accessTokenSecret\",\"XXXXX\")\n",
    "demo.setConfig(\"watson.tone.url\",\"https://gateway.watsonplatform.net/tone-analyzer-experimental/api\")\n",
    "demo.setConfig(\"watson.tone.password\",\"XXXXX\")\n",
    "demo.setConfig(\"watson.tone.username\",\"XXXXX\")"
   ]
  },
  {
   "cell_type": "markdown",
   "metadata": {},
   "source": [
    "##Start the Spark Stream to collect live tweets\n",
    "Start a new Twitter Stream that collects the live tweets and enrich them with Sentiment Analysis scores. The stream is run for a duration specified in the second argument of the **startTwitterStreaming** method.\n",
    "Note: if no duration is specified then the stream will run until the **stopTwitterStreaming** method is called."
   ]
  },
  {
   "cell_type": "code",
   "execution_count": 3,
   "metadata": {
    "collapsed": false
   },
   "outputs": [
    {
     "name": "stdout",
     "output_type": "stream",
     "text": [
      "Twitter stream started\n",
      "Tweets are collected real-time and analyzed\n",
      "To stop the streaming and start interacting with the data use: StreamingTwitter.stopTwitterStreaming\n",
      "Stopping Twitter stream. Please wait this may take a while\n",
      "Twitter stream stopped\n",
      "You can now create a sqlContext and DataFrame with 184 Tweets created. Sample usage: \n",
      "val (sqlContext, df) = com.ibm.cds.spark.samples.StreamingTwitter.createTwitterDataFrames(sc)\n",
      "df.printSchema\n",
      "sqlContext.sql(\"select author, text from tweets\").show\n"
     ]
    }
   ],
   "source": [
    "import org.apache.spark.streaming._\n",
    "demo.startTwitterStreaming(sc, Seconds(40))"
   ]
  },
  {
   "cell_type": "markdown",
   "metadata": {},
   "source": [
    "##Create a SQLContext and a dataframe with all the tweets\n",
    "Note: this method will register a SparkSQL table called tweets"
   ]
  },
  {
   "cell_type": "code",
   "execution_count": 4,
   "metadata": {
    "collapsed": false
   },
   "outputs": [
    {
     "name": "stdout",
     "output_type": "stream",
     "text": [
      "A new table named tweets with 184 records has been correctly created and can be accessed through the SQLContext variable\n",
      "Here's the schema for tweets\n",
      "root\n",
      " |-- author: string (nullable = true)\n",
      " |-- date: string (nullable = true)\n",
      " |-- lang: string (nullable = true)\n",
      " |-- text: string (nullable = true)\n",
      " |-- lat: double (nullable = true)\n",
      " |-- long: double (nullable = true)\n",
      " |-- Cheerfulness: double (nullable = true)\n",
      " |-- Negative: double (nullable = true)\n",
      " |-- Anger: double (nullable = true)\n",
      " |-- Analytical: double (nullable = true)\n",
      " |-- Confident: double (nullable = true)\n",
      " |-- Tentative: double (nullable = true)\n",
      " |-- Openness: double (nullable = true)\n",
      " |-- Agreeableness: double (nullable = true)\n",
      " |-- Conscientiousness: double (nullable = true)\n",
      "\n"
     ]
    }
   ],
   "source": [
    "val (sqlContext, df) = demo.createTwitterDataFrames(sc)"
   ]
  },
  {
   "cell_type": "markdown",
   "metadata": {},
   "source": [
    "##Execute a SparkSQL query that contains all the data"
   ]
  },
  {
   "cell_type": "code",
   "execution_count": 5,
   "metadata": {
    "collapsed": false
   },
   "outputs": [
    {
     "name": "stdout",
     "output_type": "stream",
     "text": [
      "+-------------------+--------------------+-----+--------------------+---+----+------------+--------+-----+----------+---------+---------+------------------+-------------+-----------------+\n",
      "|             author|                date| lang|                text|lat|long|Cheerfulness|Negative|Anger|Analytical|Confident|Tentative|          Openness|Agreeableness|Conscientiousness|\n",
      "+-------------------+--------------------+-----+--------------------+---+----+------------+--------+-----+----------+---------+---------+------------------+-------------+-----------------+\n",
      "|       Hanna Atwood|Wed Oct 21 22:25:...|   en|RT @NoHoesMo: TOD...|0.0| 0.0|         0.0|     0.0|  0.0|       0.0|      0.0|      0.0|               1.0|         88.0|            100.0|\n",
      "|              Donut|Wed Oct 21 22:25:...|   en|RT @3lazed: Ball ...|0.0| 0.0|         0.0|     0.0|  0.0|       0.0|      0.0|      0.0|              54.0|          0.0|             68.0|\n",
      "|               la?s|Wed Oct 21 22:25:...|   en|@deusmelirry hsis...|0.0| 0.0|         0.0|     0.0|  0.0|       0.0|      0.0|      0.0|              99.0|          0.0|             49.0|\n",
      "|               Camo|Wed Oct 21 22:25:...|   en|RT @TrapDrugs: It...|0.0| 0.0|       100.0|     0.0|  0.0|     100.0|      0.0|      0.0|               0.0|         59.0|              1.0|\n",
      "|               njit|Wed Oct 21 22:25:...|   en|October 21, 2015 ...|0.0| 0.0|       100.0|     0.0|  0.0|       0.0|      0.0|      0.0|               0.0|        100.0|            100.0|\n",
      "|       Emelly Mejia|Wed Oct 21 22:25:...|   en|RT @GirIsWant: li...|0.0| 0.0|         0.0|     0.0|  0.0|       0.0|      0.0|      0.0|               0.0|         43.0|             68.0|\n",
      "|       Kristin Wong|Wed Oct 21 22:25:...|   en|I'm entered to wi...|0.0| 0.0|       100.0|     0.0|  0.0|       0.0|      0.0|      0.0|               0.0|         99.0|            100.0|\n",
      "|               demi|Wed Oct 21 22:25:...|   en|RT @cindasmommy: ...|0.0| 0.0|        92.0|     0.0|  0.0|       0.0|      0.0|      0.0|               4.0|         98.0|             34.0|\n",
      "|Long Island is Home|Wed Oct 21 22:25:...|   en|Audible Wilmer Fl...|0.0| 0.0|         0.0|     0.0|  0.0|       0.0|      0.0|      0.0|             100.0|          0.0|             68.0|\n",
      "|        Thomas Gase|Wed Oct 21 22:25:...|   en|Action between Va...|0.0| 0.0|         0.0|     0.0|  0.0|       0.0|      0.0|      0.0|              20.0|         99.0|             68.0|\n",
      "|               Lori|Wed Oct 21 22:25:...|   en|Somehow Kaylee op...|0.0| 0.0|         0.0|     0.0|  0.0|       0.0|    100.0|     90.0|               1.0|         97.0|              6.0|\n",
      "|           KN SOLID|Wed Oct 21 22:25:...|   en|#PushAwardsKathNi...|0.0| 0.0|         0.0|     0.0|  0.0|       0.0|      0.0|      0.0|              97.0|          0.0|             68.0|\n",
      "|                 Mo|Wed Oct 21 22:25:...|   en|RT @Johnny_Piazza...|0.0| 0.0|         0.0|   100.0|  0.0|       0.0|      0.0|    100.0|28.999999999999996|          0.0|              0.0|\n",
      "|          06488jcsb|Wed Oct 21 22:25:...|   en|Get Weather Updat...|0.0| 0.0|         0.0|     0.0|  0.0|       0.0|      0.0|      0.0|              74.0|         45.0|             96.0|\n",
      "|          06021lkta|Wed Oct 21 22:25:...|   en|Get Weather Updat...|0.0| 0.0|         0.0|     0.0|  0.0|       0.0|      0.0|      0.0|              74.0|         45.0|             96.0|\n",
      "|   WeLiveinaKNWorld|Wed Oct 21 22:25:...|en-gb|RT @Silentkathnie...|0.0| 0.0|         0.0|     0.0|  0.0|       0.0|      0.0|      0.0|              97.0|          0.0|            100.0|\n",
      "|       Prettyelisha|Wed Oct 21 22:25:...|   en|RT @AyRealTalk: Y...|0.0| 0.0|         0.0|     0.0|  0.0|       0.0|      0.0|      0.0|              97.0|          0.0|             68.0|\n",
      "|7|-|3 4R(|-|4|\\|93L|Wed Oct 21 22:25:...|   en|@BemetOr22 This i...|0.0| 0.0|         0.0|     0.0|  0.0|       0.0|      0.0|      0.0|              51.0|         15.0|             98.0|\n",
      "|              ?IGY?|Wed Oct 21 22:25:...|   en|(2/3) --become a ...|0.0| 0.0|       100.0|   100.0|  0.0|      47.0|      0.0|     83.0|               0.0|         98.0|7.000000000000001|\n",
      "|                KKU|Wed Oct 21 22:25:...|   en|@offbeatorbit I k...|0.0| 0.0|         0.0|     0.0|  0.0|     100.0|      0.0|      0.0|               4.0|         54.0|              9.0|\n",
      "+-------------------+--------------------+-----+--------------------+---+----+------------+--------+-----+----------+---------+---------+------------------+-------------+-----------------+\n",
      "\n"
     ]
    }
   ],
   "source": [
    "val fullSet = sqlContext.sql(\"select * from tweets\")  //Select all columns\n",
    "fullSet.show"
   ]
  },
  {
   "cell_type": "markdown",
   "metadata": {},
   "source": [
    "##Persist the dataset into a parquet file on Object Storage service\n",
    "The parquet file will be reloaded in IPython Part 2 Notebook\n",
    "Note: you can disregard the warning messages related to SLF4J"
   ]
  },
  {
   "cell_type": "code",
   "execution_count": 6,
   "metadata": {
    "collapsed": false
   },
   "outputs": [
    {
     "name": "stdout",
     "output_type": "stream",
     "text": [
      "SLF4J: Failed to load class \"org.slf4j.impl.StaticLoggerBinder\".\n",
      "SLF4J: Defaulting to no-operation (NOP) logger implementation\n",
      "SLF4J: See http://www.slf4j.org/codes.html#StaticLoggerBinder for further details.\n"
     ]
    }
   ],
   "source": [
    "fullSet.repartition(1).saveAsParquetFile(\"swift://notebooks.spark/tweetsFull.parquet\")"
   ]
  },
  {
   "cell_type": "markdown",
   "metadata": {},
   "source": [
    "##SparkSQL query example on the data.\n",
    "Select all the tweets that have Anger score greated than 70%"
   ]
  },
  {
   "cell_type": "code",
   "execution_count": 7,
   "metadata": {
    "collapsed": false
   },
   "outputs": [
    {
     "name": "stdout",
     "output_type": "stream",
     "text": [
      "17\n",
      "+----------------+--------------------+-----+\n",
      "|          author|                text|Anger|\n",
      "+----------------+--------------------+-----+\n",
      "|         Freddie|RT @AHSHotel_: Wh...|100.0|\n",
      "|   Monica Abrego|THE NEW PATD SONG...|100.0|\n",
      "|  sp??ky pumpkin|rohi you've got m...|100.0|\n",
      "|    Funny funny |My XXXXXXXXXX so ...|100.0|\n",
      "|             Vai|XXXXXXX love the ...|100.0|\n",
      "| Carter Pederson|RT @EvanMcSan: Bi...|100.0|\n",
      "|Upside-down Joke|@CazCoyote @chipf...|100.0|\n",
      "|            Kwin|\"I go XXX first....|100.0|\n",
      "|          Berlin|I hate when a guy...|100.0|\n",
      "|         blayne?|If I don't find y...|100.0|\n",
      "|         Patrick|RT @Pro_Jones_: D...|100.0|\n",
      "|  Drizzy A Reyes|Dear diary, today...|100.0|\n",
      "|      Chika MADU|RT @EmekaGift: @M...|100.0|\n",
      "|        UrbanKid|@TheSlimJesus i k...|100.0|\n",
      "|      jocelynnnn|@_baileelara figh...|100.0|\n",
      "|      Tay_Baeee?| Hate sleeping alone|100.0|\n",
      "|           Miraf|@Called_A_Legend ...|100.0|\n",
      "+----------------+--------------------+-----+\n",
      "\n"
     ]
    }
   ],
   "source": [
    "val angerSet = sqlContext.sql(\"select author, text, Anger from tweets where Anger > 70\")\n",
    "println(angerSet.count)\n",
    "angerSet.show"
   ]
  },
  {
   "cell_type": "code",
   "execution_count": null,
   "metadata": {
    "collapsed": true
   },
   "outputs": [],
   "source": []
  }
 ],
 "metadata": {
  "kernelspec": {
   "display_name": "Scala 2.10",
   "language": "scala",
   "name": "spark"
  },
  "language_info": {
   "name": "scala"
  },
  "name": "Twitter + Watson Tone Analyzer Part 1.ipynb"
 },
 "nbformat": 4,
 "nbformat_minor": 0
}
